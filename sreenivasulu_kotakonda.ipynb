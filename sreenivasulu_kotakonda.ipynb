{
 "cells": [
  {
   "cell_type": "markdown",
   "id": "c419d018",
   "metadata": {},
   "source": [
    "## In-class Activity\n",
    "\n",
    "These questions and tasks provide a comprehensive framework for you to explore and build a multiple linear regression predictive model within a 40-minute timeframe. "
   ]
  },
  {
   "cell_type": "markdown",
   "id": "7604c9bd",
   "metadata": {},
   "source": [
    "### Import all your necessary libraries"
   ]
  },
  {
   "cell_type": "code",
   "execution_count": 21,
   "id": "32889268",
   "metadata": {},
   "outputs": [],
   "source": [
    "#Add missing packages\n",
    "import pandas as pd\n",
    "from sklearn.preprocessing import LabelEncoder"
   ]
  },
  {
   "cell_type": "markdown",
   "id": "98fa7e41",
   "metadata": {},
   "source": [
    "## Load your Dataset"
   ]
  },
  {
   "cell_type": "markdown",
   "id": "6b16ce36",
   "metadata": {},
   "source": [
    "**[Infrared Thermography Temperature](https://archive.ics.uci.edu/dataset/925/infrared+thermography+temperature+dataset)**\n",
    "The Infrared Thermography Temperature Dataset contains temperatures read from various locations of inferred images about patients, with the addition of oral temperatures measured for each individual.\n",
    "\n",
    "**The target variable are 'aveOralF and\taveOralM'**"
   ]
  },
  {
   "cell_type": "code",
   "execution_count": 2,
   "id": "d4132f56",
   "metadata": {},
   "outputs": [
    {
     "name": "stdout",
     "output_type": "stream",
     "text": [
      "Collecting ucimlrepo\n",
      "  Obtaining dependency information for ucimlrepo from https://files.pythonhosted.org/packages/3e/4a/ecc3456479d687202b34ee42317c3a63e09793c9409a720052d38356431a/ucimlrepo-0.0.3-py3-none-any.whl.metadata\n",
      "  Downloading ucimlrepo-0.0.3-py3-none-any.whl.metadata (5.2 kB)\n",
      "Downloading ucimlrepo-0.0.3-py3-none-any.whl (7.0 kB)\n",
      "Installing collected packages: ucimlrepo\n",
      "Successfully installed ucimlrepo-0.0.3\n"
     ]
    }
   ],
   "source": [
    "# Install the ucimlrepo package \n",
    "!pip install ucimlrepo"
   ]
  },
  {
   "cell_type": "markdown",
   "id": "10c03467",
   "metadata": {},
   "source": [
    "**Import the dataset into your code**"
   ]
  },
  {
   "cell_type": "code",
   "execution_count": 3,
   "id": "59bda7be",
   "metadata": {},
   "outputs": [],
   "source": [
    "from ucimlrepo import fetch_ucirepo \n",
    "  \n",
    "# fetch dataset \n",
    "infrared_thermography_temperature = fetch_ucirepo(id=925) \n",
    "  \n",
    "# data (as pandas dataframes) \n",
    "X_variables_ = infrared_thermography_temperature.data.features \n",
    "y_ = infrared_thermography_temperature.data.targets \n",
    "\n",
    "Infrared_Tem_Data = pd.concat([X_variables_, y_], axis=1)"
   ]
  },
  {
   "cell_type": "code",
   "execution_count": 4,
   "id": "afdb44b8",
   "metadata": {},
   "outputs": [
    {
     "data": {
      "text/html": [
       "<div>\n",
       "<style scoped>\n",
       "    .dataframe tbody tr th:only-of-type {\n",
       "        vertical-align: middle;\n",
       "    }\n",
       "\n",
       "    .dataframe tbody tr th {\n",
       "        vertical-align: top;\n",
       "    }\n",
       "\n",
       "    .dataframe thead th {\n",
       "        text-align: right;\n",
       "    }\n",
       "</style>\n",
       "<table border=\"1\" class=\"dataframe\">\n",
       "  <thead>\n",
       "    <tr style=\"text-align: right;\">\n",
       "      <th></th>\n",
       "      <th>aveOralF</th>\n",
       "      <th>aveOralM</th>\n",
       "    </tr>\n",
       "  </thead>\n",
       "  <tbody>\n",
       "    <tr>\n",
       "      <th>0</th>\n",
       "      <td>36.85</td>\n",
       "      <td>36.59</td>\n",
       "    </tr>\n",
       "    <tr>\n",
       "      <th>1</th>\n",
       "      <td>37.00</td>\n",
       "      <td>37.19</td>\n",
       "    </tr>\n",
       "    <tr>\n",
       "      <th>2</th>\n",
       "      <td>37.20</td>\n",
       "      <td>37.34</td>\n",
       "    </tr>\n",
       "    <tr>\n",
       "      <th>3</th>\n",
       "      <td>36.85</td>\n",
       "      <td>37.09</td>\n",
       "    </tr>\n",
       "    <tr>\n",
       "      <th>4</th>\n",
       "      <td>36.80</td>\n",
       "      <td>37.04</td>\n",
       "    </tr>\n",
       "    <tr>\n",
       "      <th>...</th>\n",
       "      <td>...</td>\n",
       "      <td>...</td>\n",
       "    </tr>\n",
       "    <tr>\n",
       "      <th>1015</th>\n",
       "      <td>36.95</td>\n",
       "      <td>36.99</td>\n",
       "    </tr>\n",
       "    <tr>\n",
       "      <th>1016</th>\n",
       "      <td>37.25</td>\n",
       "      <td>37.19</td>\n",
       "    </tr>\n",
       "    <tr>\n",
       "      <th>1017</th>\n",
       "      <td>37.35</td>\n",
       "      <td>37.59</td>\n",
       "    </tr>\n",
       "    <tr>\n",
       "      <th>1018</th>\n",
       "      <td>37.15</td>\n",
       "      <td>37.29</td>\n",
       "    </tr>\n",
       "    <tr>\n",
       "      <th>1019</th>\n",
       "      <td>37.05</td>\n",
       "      <td>37.19</td>\n",
       "    </tr>\n",
       "  </tbody>\n",
       "</table>\n",
       "<p>1020 rows × 2 columns</p>\n",
       "</div>"
      ],
      "text/plain": [
       "      aveOralF  aveOralM\n",
       "0        36.85     36.59\n",
       "1        37.00     37.19\n",
       "2        37.20     37.34\n",
       "3        36.85     37.09\n",
       "4        36.80     37.04\n",
       "...        ...       ...\n",
       "1015     36.95     36.99\n",
       "1016     37.25     37.19\n",
       "1017     37.35     37.59\n",
       "1018     37.15     37.29\n",
       "1019     37.05     37.19\n",
       "\n",
       "[1020 rows x 2 columns]"
      ]
     },
     "execution_count": 4,
     "metadata": {},
     "output_type": "execute_result"
    }
   ],
   "source": [
    "y_"
   ]
  },
  {
   "cell_type": "code",
   "execution_count": null,
   "id": "e2e8aca8",
   "metadata": {},
   "outputs": [],
   "source": [
    "# Display the combined DataFrame\n",
    "Infrared_Tem_Data.head(3)"
   ]
  },
  {
   "cell_type": "markdown",
   "id": "75271968",
   "metadata": {},
   "source": [
    "### 1 Describe the dataset"
   ]
  },
  {
   "cell_type": "markdown",
   "id": "3a6193f2",
   "metadata": {},
   "source": [
    "1. How many features (independent variables) and observations (data points) are there?"
   ]
  },
  {
   "cell_type": "code",
   "execution_count": 5,
   "id": "1568a4b3",
   "metadata": {},
   "outputs": [
    {
     "name": "stdout",
     "output_type": "stream",
     "text": [
      "Number of features (independent variables): 33\n",
      "Number of observations (data points): 1020\n"
     ]
    }
   ],
   "source": [
    "num_features = X_variables_.shape[1]\n",
    "num_observations = X_variables_.shape[0]\n",
    "\n",
    "print(\"Number of features (independent variables):\", num_features)\n",
    "print(\"Number of observations (data points):\", num_observations)"
   ]
  },
  {
   "cell_type": "markdown",
   "id": "14a5cb3b",
   "metadata": {},
   "source": [
    "2. What are the data types of each feature (numerical, categorical, etc.)?"
   ]
  },
  {
   "cell_type": "code",
   "execution_count": 6,
   "id": "94343d5f",
   "metadata": {},
   "outputs": [
    {
     "name": "stdout",
     "output_type": "stream",
     "text": [
      "Data types of each feature:\n",
      "Gender          object\n",
      "Age             object\n",
      "Ethnicity       object\n",
      "T_atm          float64\n",
      "Humidity       float64\n",
      "Distance       float64\n",
      "T_offset1      float64\n",
      "Max1R13_1      float64\n",
      "Max1L13_1      float64\n",
      "aveAllR13_1    float64\n",
      "aveAllL13_1    float64\n",
      "T_RC1          float64\n",
      "T_RC_Dry1      float64\n",
      "T_RC_Wet1      float64\n",
      "T_RC_Max1      float64\n",
      "T_LC1          float64\n",
      "T_LC_Dry1      float64\n",
      "T_LC_Wet1      float64\n",
      "T_LC_Max1      float64\n",
      "RCC1           float64\n",
      "LCC1           float64\n",
      "canthiMax1     float64\n",
      "canthi4Max1    float64\n",
      "T_FHCC1        float64\n",
      "T_FHRC1        float64\n",
      "T_FHLC1        float64\n",
      "T_FHBC1        float64\n",
      "T_FHTC1        float64\n",
      "T_FH_Max1      float64\n",
      "T_FHC_Max1     float64\n",
      "T_Max1         float64\n",
      "T_OR1          float64\n",
      "T_OR_Max1      float64\n",
      "dtype: object\n"
     ]
    }
   ],
   "source": [
    "feature_data_types = X_variables_.dtypes\n",
    "\n",
    "print(\"Data types of each feature:\")\n",
    "print(feature_data_types)\n"
   ]
  },
  {
   "cell_type": "markdown",
   "id": "ba799d54",
   "metadata": {},
   "source": [
    "3. Are there any missing values? If so, how are they handled?"
   ]
  },
  {
   "cell_type": "code",
   "execution_count": 7,
   "id": "e783bd87",
   "metadata": {},
   "outputs": [
    {
     "name": "stdout",
     "output_type": "stream",
     "text": [
      "There are missing values in the dataset.\n",
      "Number of missing values for each feature:\n",
      "Gender         0\n",
      "Age            0\n",
      "Ethnicity      0\n",
      "T_atm          0\n",
      "Humidity       0\n",
      "Distance       2\n",
      "T_offset1      0\n",
      "Max1R13_1      0\n",
      "Max1L13_1      0\n",
      "aveAllR13_1    0\n",
      "aveAllL13_1    0\n",
      "T_RC1          0\n",
      "T_RC_Dry1      0\n",
      "T_RC_Wet1      0\n",
      "T_RC_Max1      0\n",
      "T_LC1          0\n",
      "T_LC_Dry1      0\n",
      "T_LC_Wet1      0\n",
      "T_LC_Max1      0\n",
      "RCC1           0\n",
      "LCC1           0\n",
      "canthiMax1     0\n",
      "canthi4Max1    0\n",
      "T_FHCC1        0\n",
      "T_FHRC1        0\n",
      "T_FHLC1        0\n",
      "T_FHBC1        0\n",
      "T_FHTC1        0\n",
      "T_FH_Max1      0\n",
      "T_FHC_Max1     0\n",
      "T_Max1         0\n",
      "T_OR1          0\n",
      "T_OR_Max1      0\n",
      "aveOralF       0\n",
      "aveOralM       0\n",
      "dtype: int64\n"
     ]
    }
   ],
   "source": [
    "# 3. Check for missing values\n",
    "missing_values = Infrared_Tem_Data.isnull().sum()\n",
    "\n",
    "if missing_values.sum() > 0:\n",
    "    print(\"There are missing values in the dataset.\")\n",
    "    print(\"Number of missing values for each feature:\")\n",
    "    print(missing_values)\n",
    "else:\n",
    "    print(\"There are no missing values in the dataset.\")\n"
   ]
  },
  {
   "cell_type": "markdown",
   "id": "f9e3cbe4",
   "metadata": {},
   "source": [
    "### 2 Correlation Analysis"
   ]
  },
  {
   "cell_type": "markdown",
   "id": "67119707",
   "metadata": {},
   "source": [
    "1. Compute the correlation matrix between the features and the target variable."
   ]
  },
  {
   "cell_type": "code",
   "execution_count": 10,
   "id": "bceef31a",
   "metadata": {},
   "outputs": [],
   "source": [
    "import numpy as np"
   ]
  },
  {
   "cell_type": "code",
   "execution_count": 11,
   "id": "23fd97f9",
   "metadata": {},
   "outputs": [
    {
     "name": "stdout",
     "output_type": "stream",
     "text": [
      "Correlation Matrix:\n",
      "                T_atm  Humidity  Distance  T_offset1  Max1R13_1  Max1L13_1  \\\n",
      "T_atm        1.000000  0.119270  0.033377   0.616912   0.275363   0.292344   \n",
      "Humidity     0.119270  1.000000  0.008468   0.224086   0.050884   0.060754   \n",
      "Distance     0.033377  0.008468  1.000000   0.024831  -0.024479  -0.022900   \n",
      "T_offset1    0.616912  0.224086  0.024831   1.000000   0.239208   0.260545   \n",
      "Max1R13_1    0.275363  0.050884 -0.024479   0.239208   1.000000   0.901213   \n",
      "Max1L13_1    0.292344  0.060754 -0.022900   0.260545   0.901213   1.000000   \n",
      "aveAllR13_1  0.269869  0.101012 -0.051634   0.237177   0.868731   0.775313   \n",
      "aveAllL13_1  0.311260  0.112754 -0.054362   0.279728   0.825698   0.896370   \n",
      "T_RC1        0.287289  0.058080 -0.012427   0.249420   0.981819   0.906892   \n",
      "T_RC_Dry1    0.280530  0.044929 -0.024331   0.242019   0.995478   0.901218   \n",
      "T_RC_Wet1    0.317640  0.082547 -0.007114   0.280940   0.942309   0.895895   \n",
      "T_RC_Max1    0.285080  0.057643 -0.012356   0.247770   0.981113   0.905858   \n",
      "T_LC1        0.301102  0.064622 -0.023953   0.273519   0.902975   0.988479   \n",
      "T_LC_Dry1    0.295209  0.057882 -0.021779   0.265144   0.906336   0.993080   \n",
      "T_LC_Wet1    0.349119  0.088858 -0.024545   0.318205   0.867610   0.945383   \n",
      "T_LC_Max1    0.298418  0.064127 -0.023781   0.271318   0.901981   0.988293   \n",
      "RCC1         0.326152  0.102132 -0.028424   0.291964   0.950207   0.878140   \n",
      "LCC1         0.347894  0.119523 -0.029002   0.320351   0.848891   0.938003   \n",
      "canthiMax1   0.287574  0.051423 -0.018007   0.246427   0.955850   0.951890   \n",
      "canthi4Max1  0.289473  0.052275 -0.018102   0.248348   0.956726   0.952341   \n",
      "T_FHCC1      0.380148  0.043393 -0.018626   0.367158   0.673311   0.660783   \n",
      "T_FHRC1      0.368740  0.033311 -0.008938   0.348724   0.665614   0.640706   \n",
      "T_FHLC1      0.388760  0.040234 -0.009554   0.368220   0.617565   0.612534   \n",
      "T_FHBC1      0.393838  0.061012 -0.022870   0.371284   0.702868   0.692723   \n",
      "T_FHTC1      0.329755  0.036980 -0.014081   0.317587   0.566860   0.559005   \n",
      "T_FH_Max1    0.339329  0.006943 -0.022385   0.304540   0.703221   0.691522   \n",
      "T_FHC_Max1   0.389521  0.038868 -0.012941   0.355541   0.720179   0.707298   \n",
      "T_Max1       0.242280  0.064231  0.007898   0.191369   0.873412   0.867470   \n",
      "T_OR1        0.233001  0.111888  0.013631   0.181496   0.734474   0.729175   \n",
      "T_OR_Max1    0.230146  0.110408  0.014242   0.177910   0.733324   0.727941   \n",
      "aveOralF     0.070825  0.047200  0.016166   0.117794   0.637134   0.621410   \n",
      "aveOralM     0.098663  0.063595  0.011181   0.139041   0.741902   0.735644   \n",
      "\n",
      "             aveAllR13_1  aveAllL13_1     T_RC1  T_RC_Dry1  ...   T_FHLC1  \\\n",
      "T_atm           0.269869     0.311260  0.287289   0.280530  ...  0.388760   \n",
      "Humidity        0.101012     0.112754  0.058080   0.044929  ...  0.040234   \n",
      "Distance       -0.051634    -0.054362 -0.012427  -0.024331  ... -0.009554   \n",
      "T_offset1       0.237177     0.279728  0.249420   0.242019  ...  0.368220   \n",
      "Max1R13_1       0.868731     0.825698  0.981819   0.995478  ...  0.617565   \n",
      "Max1L13_1       0.775313     0.896370  0.906892   0.901218  ...  0.612534   \n",
      "aveAllR13_1     1.000000     0.858994  0.826354   0.868849  ...  0.581719   \n",
      "aveAllL13_1     0.858994     1.000000  0.809478   0.826757  ...  0.599982   \n",
      "T_RC1           0.826354     0.809478  1.000000   0.982699  ...  0.620701   \n",
      "T_RC_Dry1       0.868849     0.826757  0.982699   1.000000  ...  0.630409   \n",
      "T_RC_Wet1       0.768282     0.788077  0.974507   0.939192  ...  0.611470   \n",
      "T_RC_Max1       0.825342     0.808872  0.999788   0.981766  ...  0.619537   \n",
      "T_LC1           0.769817     0.878311  0.917951   0.904788  ...  0.631920   \n",
      "T_LC_Dry1       0.774904     0.889209  0.914081   0.908854  ...  0.627808   \n",
      "T_LC_Wet1       0.728465     0.826994  0.893988   0.869295  ...  0.649177   \n",
      "T_LC_Max1       0.768811     0.876763  0.917171   0.903646  ...  0.629438   \n",
      "RCC1            0.851173     0.824750  0.941622   0.938857  ...  0.604897   \n",
      "LCC1            0.759324     0.874104  0.862210   0.846625  ...  0.627171   \n",
      "canthiMax1      0.811333     0.849653  0.973427   0.958114  ...  0.620660   \n",
      "canthi4Max1     0.812102     0.850296  0.974158   0.959138  ...  0.622636   \n",
      "T_FHCC1         0.636518     0.650243  0.675262   0.686645  ...  0.901269   \n",
      "T_FHRC1         0.609243     0.620341  0.667143   0.678681  ...  0.876939   \n",
      "T_FHLC1         0.581719     0.599982  0.620701   0.630409  ...  1.000000   \n",
      "T_FHBC1         0.683231     0.697290  0.704861   0.717506  ...  0.889304   \n",
      "T_FHTC1         0.535339     0.551961  0.570513   0.579582  ...  0.795355   \n",
      "T_FH_Max1       0.628209     0.653166  0.715962   0.718977  ...  0.808889   \n",
      "T_FHC_Max1      0.664829     0.677782  0.729618   0.734562  ...  0.897810   \n",
      "T_Max1          0.745489     0.774758  0.892319   0.878937  ...  0.566689   \n",
      "T_OR1           0.657640     0.675740  0.746736   0.736340  ...  0.478236   \n",
      "T_OR_Max1       0.656137     0.674287  0.745588   0.735246  ...  0.476180   \n",
      "aveOralF        0.534192     0.540581  0.664154   0.643588  ...  0.399649   \n",
      "aveOralM        0.620874     0.645084  0.768730   0.748566  ...  0.463579   \n",
      "\n",
      "              T_FHBC1   T_FHTC1  T_FH_Max1  T_FHC_Max1    T_Max1     T_OR1  \\\n",
      "T_atm        0.393838  0.329755   0.339329    0.389521  0.242280  0.233001   \n",
      "Humidity     0.061012  0.036980   0.006943    0.038868  0.064231  0.111888   \n",
      "Distance    -0.022870 -0.014081  -0.022385   -0.012941  0.007898  0.013631   \n",
      "T_offset1    0.371284  0.317587   0.304540    0.355541  0.191369  0.181496   \n",
      "Max1R13_1    0.702868  0.566860   0.703221    0.720179  0.873412  0.734474   \n",
      "Max1L13_1    0.692723  0.559005   0.691522    0.707298  0.867470  0.729175   \n",
      "aveAllR13_1  0.683231  0.535339   0.628209    0.664829  0.745489  0.657640   \n",
      "aveAllL13_1  0.697290  0.551961   0.653166    0.677782  0.774758  0.675740   \n",
      "T_RC1        0.704861  0.570513   0.715962    0.729618  0.892319  0.746736   \n",
      "T_RC_Dry1    0.717506  0.579582   0.718977    0.734562  0.878937  0.736340   \n",
      "T_RC_Wet1    0.695248  0.563832   0.707351    0.721916  0.875525  0.737934   \n",
      "T_RC_Max1    0.704140  0.570371   0.716115    0.729143  0.892838  0.746725   \n",
      "T_LC1        0.707839  0.573580   0.710334    0.726049  0.877247  0.732898   \n",
      "T_LC_Dry1    0.707930  0.574594   0.708709    0.722607  0.874036  0.730764   \n",
      "T_LC_Wet1    0.703566  0.573583   0.704305    0.729010  0.837752  0.701432   \n",
      "T_LC_Max1    0.705755  0.571996   0.709013    0.724553  0.877597  0.733190   \n",
      "RCC1         0.695558  0.554524   0.677345    0.704101  0.833673  0.711756   \n",
      "LCC1         0.689892  0.553239   0.673003    0.705313  0.809159  0.683467   \n",
      "canthiMax1   0.709351  0.575508   0.728635    0.734937  0.917467  0.761050   \n",
      "canthi4Max1  0.710832  0.576449   0.729312    0.736220  0.916869  0.760411   \n",
      "T_FHCC1      0.953455  0.866264   0.844060    0.937282  0.616617  0.516776   \n",
      "T_FHRC1      0.913997  0.798408   0.834180    0.917380  0.604350  0.509125   \n",
      "T_FHLC1      0.889304  0.795355   0.808889    0.897810  0.566689  0.478236   \n",
      "T_FHBC1      1.000000  0.815483   0.843477    0.932460  0.648444  0.558816   \n",
      "T_FHTC1      0.815483  1.000000   0.784167    0.837054  0.533080  0.437948   \n",
      "T_FH_Max1    0.843477  0.784167   1.000000    0.903878  0.727437  0.590877   \n",
      "T_FHC_Max1   0.932460  0.837054   0.903878    1.000000  0.691978  0.582218   \n",
      "T_Max1       0.648444  0.533080   0.727437    0.691978  1.000000  0.898255   \n",
      "T_OR1        0.558816  0.437948   0.590877    0.582218  0.898255  1.000000   \n",
      "T_OR_Max1    0.556172  0.436457   0.589182    0.580059  0.897916  0.999756   \n",
      "aveOralF     0.472456  0.382936   0.560117    0.502194  0.752546  0.718840   \n",
      "aveOralM     0.552362  0.454889   0.641727    0.595470  0.849657  0.767345   \n",
      "\n",
      "             T_OR_Max1  aveOralF  aveOralM  \n",
      "T_atm         0.230146  0.070825  0.098663  \n",
      "Humidity      0.110408  0.047200  0.063595  \n",
      "Distance      0.014242  0.016166  0.011181  \n",
      "T_offset1     0.177910  0.117794  0.139041  \n",
      "Max1R13_1     0.733324  0.637134  0.741902  \n",
      "Max1L13_1     0.727941  0.621410  0.735644  \n",
      "aveAllR13_1   0.656137  0.534192  0.620874  \n",
      "aveAllL13_1   0.674287  0.540581  0.645084  \n",
      "T_RC1         0.745588  0.664154  0.768730  \n",
      "T_RC_Dry1     0.735246  0.643588  0.748566  \n",
      "T_RC_Wet1     0.736419  0.654099  0.760134  \n",
      "T_RC_Max1     0.745637  0.664864  0.769463  \n",
      "T_LC1         0.731692  0.633009  0.750390  \n",
      "T_LC_Dry1     0.729569  0.627341  0.743656  \n",
      "T_LC_Wet1     0.699714  0.611027  0.720383  \n",
      "T_LC_Max1     0.732013  0.633186  0.750527  \n",
      "RCC1          0.709676  0.611695  0.714193  \n",
      "LCC1          0.681380  0.586546  0.696752  \n",
      "canthiMax1    0.759986  0.673136  0.784096  \n",
      "canthi4Max1   0.759311  0.672514  0.783763  \n",
      "T_FHCC1       0.514626  0.433403  0.513335  \n",
      "T_FHRC1       0.507010  0.425942  0.514298  \n",
      "T_FHLC1       0.476180  0.399649  0.463579  \n",
      "T_FHBC1       0.556172  0.472456  0.552362  \n",
      "T_FHTC1       0.436457  0.382936  0.454889  \n",
      "T_FH_Max1     0.589182  0.560117  0.641727  \n",
      "T_FHC_Max1    0.580059  0.502194  0.595470  \n",
      "T_Max1        0.897916  0.752546  0.849657  \n",
      "T_OR1         0.999756  0.718840  0.767345  \n",
      "T_OR_Max1     1.000000  0.718513  0.766911  \n",
      "aveOralF      0.718513  1.000000  0.884728  \n",
      "aveOralM      0.766911  0.884728  1.000000  \n",
      "\n",
      "[32 rows x 32 columns]\n"
     ]
    }
   ],
   "source": [
    "# Exclude non-numeric columns before computing correlation\n",
    "numeric_data = Infrared_Tem_Data.select_dtypes(include=[np.number])\n",
    "\n",
    "# Compute the correlation matrix between numeric features and the target variable\n",
    "correlation_matrix = numeric_data.corr()\n",
    "\n",
    "# Display the correlation matrix\n",
    "print(\"Correlation Matrix:\")\n",
    "print(correlation_matrix)\n"
   ]
  },
  {
   "cell_type": "markdown",
   "id": "aefef9ec",
   "metadata": {},
   "source": [
    "2. Identify the features with the highest correlation with the target variable."
   ]
  },
  {
   "cell_type": "code",
   "execution_count": 12,
   "id": "43c6fd90",
   "metadata": {},
   "outputs": [
    {
     "name": "stdout",
     "output_type": "stream",
     "text": [
      "Features with the highest correlation with the target variable:\n",
      "aveOralF       0.884728\n",
      "T_Max1         0.849657\n",
      "canthiMax1     0.784096\n",
      "canthi4Max1    0.783763\n",
      "T_RC_Max1      0.769463\n",
      "T_RC1          0.768730\n",
      "T_OR1          0.767345\n",
      "T_OR_Max1      0.766911\n",
      "T_RC_Wet1      0.760134\n",
      "T_LC_Max1      0.750527\n",
      "T_LC1          0.750390\n",
      "T_RC_Dry1      0.748566\n",
      "T_LC_Dry1      0.743656\n",
      "Max1R13_1      0.741902\n",
      "Max1L13_1      0.735644\n",
      "T_LC_Wet1      0.720383\n",
      "RCC1           0.714193\n",
      "LCC1           0.696752\n",
      "aveAllL13_1    0.645084\n",
      "T_FH_Max1      0.641727\n",
      "aveAllR13_1    0.620874\n",
      "T_FHC_Max1     0.595470\n",
      "T_FHBC1        0.552362\n",
      "T_FHRC1        0.514298\n",
      "T_FHCC1        0.513335\n",
      "T_FHLC1        0.463579\n",
      "T_FHTC1        0.454889\n",
      "T_offset1      0.139041\n",
      "T_atm          0.098663\n",
      "Humidity       0.063595\n",
      "Distance       0.011181\n",
      "Name: aveOralM, dtype: float64\n"
     ]
    }
   ],
   "source": [
    "target_correlation = correlation_matrix.iloc[-1, :-1]  # Exclude the target variable itself\n",
    "highest_correlated_features = target_correlation.abs().sort_values(ascending=False)\n",
    "\n",
    "# Display the features with the highest correlation with the target variable\n",
    "print(\"Features with the highest correlation with the target variable:\")\n",
    "print(highest_correlated_features)"
   ]
  },
  {
   "cell_type": "markdown",
   "id": "42a80898",
   "metadata": {},
   "source": [
    "3. Visualize the correlation matrix using a heatmap."
   ]
  },
  {
   "cell_type": "code",
   "execution_count": 13,
   "id": "b9267b56",
   "metadata": {},
   "outputs": [
    {
     "name": "stdout",
     "output_type": "stream",
     "text": [
      "Requirement already satisfied: seaborn in /Users/sreenivasulukotakonda/anaconda3/lib/python3.11/site-packages (0.12.2)\n",
      "Requirement already satisfied: numpy!=1.24.0,>=1.17 in /Users/sreenivasulukotakonda/anaconda3/lib/python3.11/site-packages (from seaborn) (1.24.3)\n",
      "Requirement already satisfied: pandas>=0.25 in /Users/sreenivasulukotakonda/anaconda3/lib/python3.11/site-packages (from seaborn) (2.0.3)\n",
      "Requirement already satisfied: matplotlib!=3.6.1,>=3.1 in /Users/sreenivasulukotakonda/anaconda3/lib/python3.11/site-packages (from seaborn) (3.7.2)\n",
      "Requirement already satisfied: contourpy>=1.0.1 in /Users/sreenivasulukotakonda/anaconda3/lib/python3.11/site-packages (from matplotlib!=3.6.1,>=3.1->seaborn) (1.0.5)\n",
      "Requirement already satisfied: cycler>=0.10 in /Users/sreenivasulukotakonda/anaconda3/lib/python3.11/site-packages (from matplotlib!=3.6.1,>=3.1->seaborn) (0.11.0)\n",
      "Requirement already satisfied: fonttools>=4.22.0 in /Users/sreenivasulukotakonda/anaconda3/lib/python3.11/site-packages (from matplotlib!=3.6.1,>=3.1->seaborn) (4.25.0)\n",
      "Requirement already satisfied: kiwisolver>=1.0.1 in /Users/sreenivasulukotakonda/anaconda3/lib/python3.11/site-packages (from matplotlib!=3.6.1,>=3.1->seaborn) (1.4.4)\n",
      "Requirement already satisfied: packaging>=20.0 in /Users/sreenivasulukotakonda/anaconda3/lib/python3.11/site-packages (from matplotlib!=3.6.1,>=3.1->seaborn) (23.1)\n",
      "Requirement already satisfied: pillow>=6.2.0 in /Users/sreenivasulukotakonda/anaconda3/lib/python3.11/site-packages (from matplotlib!=3.6.1,>=3.1->seaborn) (9.4.0)\n",
      "Requirement already satisfied: pyparsing<3.1,>=2.3.1 in /Users/sreenivasulukotakonda/anaconda3/lib/python3.11/site-packages (from matplotlib!=3.6.1,>=3.1->seaborn) (3.0.9)\n",
      "Requirement already satisfied: python-dateutil>=2.7 in /Users/sreenivasulukotakonda/anaconda3/lib/python3.11/site-packages (from matplotlib!=3.6.1,>=3.1->seaborn) (2.8.2)\n",
      "Requirement already satisfied: pytz>=2020.1 in /Users/sreenivasulukotakonda/anaconda3/lib/python3.11/site-packages (from pandas>=0.25->seaborn) (2023.3.post1)\n",
      "Requirement already satisfied: tzdata>=2022.1 in /Users/sreenivasulukotakonda/anaconda3/lib/python3.11/site-packages (from pandas>=0.25->seaborn) (2023.3)\n",
      "Requirement already satisfied: six>=1.5 in /Users/sreenivasulukotakonda/anaconda3/lib/python3.11/site-packages (from python-dateutil>=2.7->matplotlib!=3.6.1,>=3.1->seaborn) (1.16.0)\n",
      "Note: you may need to restart the kernel to use updated packages.\n"
     ]
    }
   ],
   "source": [
    "pip install seaborn"
   ]
  },
  {
   "cell_type": "code",
   "execution_count": 15,
   "id": "b1d93341",
   "metadata": {},
   "outputs": [
    {
     "data": {
      "image/png": "[encoded data removed]",
      "text/plain": [
       "<Figure size 1000x800 with 2 Axes>"
      ]
     },
     "metadata": {},
     "output_type": "display_data"
    }
   ],
   "source": [
    "import seaborn as sns\n",
    "import matplotlib.pyplot as plt\n",
    "\n",
    "# Set the size of the plot\n",
    "plt.figure(figsize=(10, 8))\n",
    "\n",
    "# Create a heatmap of the correlation matrix\n",
    "sns.heatmap(correlation_matrix, annot=False, cmap='coolwarm', fmt=\".2f\")\n",
    "\n",
    "# Add title and display the plot\n",
    "plt.title('Correlation Matrix Heatmap')\n",
    "plt.show()"
   ]
  },
  {
   "cell_type": "markdown",
   "id": "3a462990",
   "metadata": {},
   "source": [
    "### 3. Feature Selection"
   ]
  },
  {
   "cell_type": "markdown",
   "id": "b86341f7",
   "metadata": {},
   "source": [
    "1. Are there any categorical variables that need to be encoded? If so, which encoding method will you use? Implement your method"
   ]
  },
  {
   "cell_type": "code",
   "execution_count": 16,
   "id": "1e041fa1",
   "metadata": {},
   "outputs": [
    {
     "name": "stdout",
     "output_type": "stream",
     "text": [
      "Categorical variables found: Index(['Gender', 'Age', 'Ethnicity'], dtype='object')\n",
      "Encoded data:\n",
      "   T_atm  Humidity  Distance  T_offset1  Max1R13_1  Max1L13_1  aveAllR13_1  \\\n",
      "0   24.0      28.0       0.8     0.7025    35.0300    35.3775      34.4000   \n",
      "1   24.0      26.0       0.8     0.7800    34.5500    34.5200      33.9300   \n",
      "2   24.0      26.0       0.8     0.8625    35.6525    35.5175      34.2775   \n",
      "3   24.0      27.0       0.8     0.9300    35.2225    35.6125      34.3850   \n",
      "4   24.0      27.0       0.8     0.8950    35.5450    35.6650      34.9100   \n",
      "\n",
      "   aveAllL13_1    T_RC1  T_RC_Dry1  ...  Age_26-30  Age_31-40  Age_41-50  \\\n",
      "0      34.9175  34.9850    34.9850  ...      False      False       True   \n",
      "1      34.2250  34.7100    34.6325  ...      False       True      False   \n",
      "2      34.8000  35.6850    35.6675  ...      False      False      False   \n",
      "3      35.2475  35.2075    35.2000  ...      False      False      False   \n",
      "4      35.3675  35.6025    35.4750  ...      False      False      False   \n",
      "\n",
      "   Age_51-60  Age_>60  Ethnicity_Asian  Ethnicity_Black or African-American  \\\n",
      "0      False    False            False                                False   \n",
      "1      False    False            False                                 True   \n",
      "2      False    False            False                                False   \n",
      "3      False    False            False                                 True   \n",
      "4      False    False            False                                False   \n",
      "\n",
      "   Ethnicity_Hispanic/Latino  Ethnicity_Multiracial  Ethnicity_White  \n",
      "0                      False                  False             True  \n",
      "1                      False                  False            False  \n",
      "2                      False                  False             True  \n",
      "3                      False                  False            False  \n",
      "4                      False                  False             True  \n",
      "\n",
      "[5 rows x 45 columns]\n"
     ]
    }
   ],
   "source": [
    "# Identify categorical variables\n",
    "categorical_variables = Infrared_Tem_Data.select_dtypes(include=['object']).columns\n",
    "\n",
    "if len(categorical_variables) > 0:\n",
    "    print(\"Categorical variables found:\", categorical_variables)\n",
    "else:\n",
    "    print(\"No categorical variables found.\")\n",
    "\n",
    "# If categorical variables are found, encode them using one-hot encoding\n",
    "if len(categorical_variables) > 0:\n",
    "    encoded_data = pd.get_dummies(Infrared_Tem_Data, columns=categorical_variables, drop_first=True)\n",
    "    print(\"Encoded data:\")\n",
    "    print(encoded_data.head())\n",
    "else:\n",
    "    print(\"No encoding needed.\")"
   ]
  },
  {
   "cell_type": "markdown",
   "id": "010c5211",
   "metadata": {},
   "source": [
    "**Help in using the label encoder**\n"
   ]
  },
  {
   "cell_type": "code",
   "execution_count": 25,
   "id": "4d0d3cf9",
   "metadata": {},
   "outputs": [],
   "source": [
    "import pandas as pd\n",
    "\n",
    "# Creating a DataFrame with placeholder data\n",
    "data = {'place': ['A', 'B', 'C', 'A', 'B'],\n",
    "        'origin': ['X', 'Y', 'Z', 'X', 'Y']}\n",
    "kat = pd.DataFrame(data)\n",
    "\n",
    "# Now you can use the provided code snippet\n",
    "# Remember to adjust the column names and data as per your actual dataset\n"
   ]
  },
  {
   "cell_type": "code",
   "execution_count": 27,
   "id": "431b30fc",
   "metadata": {},
   "outputs": [
    {
     "name": "stdout",
     "output_type": "stream",
     "text": [
      "   place  origin\n",
      "0      0       0\n",
      "1      1       1\n",
      "2      2       2\n",
      "3      0       0\n",
      "4      1       1\n"
     ]
    }
   ],
   "source": [
    "# Assuming 'place' and 'origin' are categorical columns in a DataFrame called 'kat' \n",
    "\n",
    "#Step1: creat your encode\n",
    "encoder = LabelEncoder()\n",
    "\n",
    "#Step 2: Encode 'place' column\n",
    "kat['place'] = encoder.fit_transform(kat['place'])\n",
    "\n",
    "#Step 3: Encode 'Ethnicity' column\n",
    "kat['origin'] = encoder.fit_transform(kat['origin'])\n",
    "\n",
    "# Display the updated DataFrame after encoding\n",
    "print(kat.head())"
   ]
  },
  {
   "cell_type": "markdown",
   "id": "039ee570",
   "metadata": {},
   "source": [
    "**Help on tranforming the age**\n",
    "\n",
    "From your dataset it seems the age is in range\n",
    "\n",
    "This code can help you convert the range values in the 'Age' column to numerical values by taking the average of the range. Note it return 65 for the '>60' age range"
   ]
  },
  {
   "cell_type": "code",
   "execution_count": 30,
   "id": "55ffc7ed",
   "metadata": {},
   "outputs": [
    {
     "name": "stdout",
     "output_type": "stream",
     "text": [
      "Index(['place', 'origin'], dtype='object')\n"
     ]
    }
   ],
   "source": [
    "print(kat.columns)"
   ]
  },
  {
   "cell_type": "code",
   "execution_count": 32,
   "id": "f7be7778",
   "metadata": {},
   "outputs": [
    {
     "name": "stdout",
     "output_type": "stream",
     "text": [
      "   place  origin\n",
      "0      0       0\n",
      "1      1       1\n",
      "2      2       2\n",
      "3      0       0\n",
      "4      1       1\n"
     ]
    }
   ],
   "source": [
    "# # Apply the function to the 'place' column\n",
    "# kat['place'] = kat['place'].apply(convert_age_range_to_numeric)\n",
    "\n",
    "# # Apply the function to the 'origin' column\n",
    "# kat['origin'] = kat['origin'].apply(convert_age_range_to_numeric)\n",
    "\n",
    "# # Display the updated DataFrame\n",
    "# print(kat.head())\n",
    "\n",
    "# Define a function to handle categorical variables\n",
    "def convert_categorical_to_numeric(category):\n",
    "    return category\n",
    "\n",
    "# Apply the function to the 'place' column\n",
    "kat['place'] = kat['place'].apply(convert_categorical_to_numeric)\n",
    "\n",
    "# Apply the function to the 'origin' column\n",
    "kat['origin'] = kat['origin'].apply(convert_categorical_to_numeric)\n",
    "\n",
    "# Display the updated DataFrame\n",
    "print(kat.head())\n"
   ]
  },
  {
   "cell_type": "code",
   "execution_count": 38,
   "id": "7a8bfafa",
   "metadata": {},
   "outputs": [
    {
     "name": "stdout",
     "output_type": "stream",
     "text": [
      "   Gender   Age                  Ethnicity  T_atm  Humidity  Distance  \\\n",
      "0       1  45.5                      White   24.0      28.0       0.8   \n",
      "1       0  35.5  Black or African-American   24.0      26.0       0.8   \n",
      "2       0  25.5                      White   24.0      26.0       0.8   \n",
      "3       0  25.5  Black or African-American   24.0      27.0       0.8   \n",
      "4       1  19.0                      White   24.0      27.0       0.8   \n",
      "\n",
      "   T_offset1  Max1R13_1  Max1L13_1  aveAllR13_1  ...  T_FHLC1  T_FHBC1  \\\n",
      "0     0.7025    35.0300    35.3775      34.4000  ...  33.3725  33.4925   \n",
      "1     0.7800    34.5500    34.5200      33.9300  ...  33.6775  33.9700   \n",
      "2     0.8625    35.6525    35.5175      34.2775  ...  34.6475  34.8200   \n",
      "3     0.9300    35.2225    35.6125      34.3850  ...  34.6550  34.3025   \n",
      "4     0.8950    35.5450    35.6650      34.9100  ...  34.3975  34.6700   \n",
      "\n",
      "   T_FHTC1  T_FH_Max1  T_FHC_Max1   T_Max1    T_OR1  T_OR_Max1  aveOralF  \\\n",
      "0  33.0025    34.5300     34.0075  35.6925  35.6350    35.6525     36.85   \n",
      "1  34.0025    34.6825     34.6600  35.1750  35.0925    35.1075     37.00   \n",
      "2  34.6700    35.3450     35.2225  35.9125  35.8600    35.8850     37.20   \n",
      "3  34.9175    35.6025     35.3150  35.7200  34.9650    34.9825     36.85   \n",
      "4  33.8275    35.4175     35.3725  35.8950  35.5875    35.6175     36.80   \n",
      "\n",
      "   aveOralM  \n",
      "0     36.59  \n",
      "1     37.19  \n",
      "2     37.34  \n",
      "3     37.09  \n",
      "4     37.04  \n",
      "\n",
      "[5 rows x 35 columns]\n"
     ]
    }
   ],
   "source": [
    "# # Encode categorical variables\n",
    "# cat_cols = ['Gender']\n",
    "# le = LabelEncoder()\n",
    "# for col in cat_cols:\n",
    "#     Infrared_Tem_Data[col] = le.fit_transform(Infrared_Tem_Data[col])\n",
    "\n",
    "# # Transform the age range values to numerical values\n",
    "# def transform_age(value):\n",
    "#     if value == '>60':\n",
    "#         return 65\n",
    "#     else:\n",
    "#         return int(value)\n",
    "\n",
    "# Infrared_Tem_Data['Age'] = Infrared_Tem_Data['Age'].apply(transform_age)\n",
    "\n",
    "# # Print the transformed DataFrame\n",
    "# Infrared_Tem_Data.head()\n",
    "\n",
    "# Define a function to convert age range to numerical value\n",
    "def convert_age_range_to_numeric(age_range):\n",
    "    # Check if the age range is '>60'\n",
    "    if age_range == '>60':\n",
    "        return 65  # Assign an arbitrary value (e.g., the maximum age in the range)\n",
    "    # Otherwise, split the age range into two values and calculate the average\n",
    "    age_values = age_range.split('-')\n",
    "    age_numeric = (int(age_values[0]) + int(age_values[1])) / 2\n",
    "    return age_numeric\n",
    "\n",
    "# Apply the function to the 'Age' column\n",
    "Infrared_Tem_Data['Age'] = Infrared_Tem_Data['Age'].apply(convert_age_range_to_numeric)\n",
    "\n",
    "# Print the transformed DataFrame\n",
    "print(Infrared_Tem_Data.head())\n"
   ]
  },
  {
   "cell_type": "markdown",
   "id": "dfacf1aa",
   "metadata": {},
   "source": [
    "2. Should any features be transformed (e.g., scaling numerical features)? If so, which scaling method will you use? Implement it."
   ]
  },
  {
   "cell_type": "code",
   "execution_count": 40,
   "id": "f3efa9ea",
   "metadata": {},
   "outputs": [
    {
     "name": "stdout",
     "output_type": "stream",
     "text": [
      "     Gender       Age     T_atm  Humidity  Distance  T_offset1  Max1R13_1  \\\n",
      "0  1.209863  3.897380 -0.086392 -0.055341  0.028598  -0.734385  -0.985950   \n",
      "1 -0.826540  2.216658 -0.086392 -0.208419  0.028598  -0.520538  -1.821305   \n",
      "2 -0.826540  0.535936 -0.086392 -0.208419  0.028598  -0.292895   0.097401   \n",
      "3 -0.826540  0.535936 -0.086392 -0.131880  0.028598  -0.106642  -0.650938   \n",
      "4  1.209863 -0.556533 -0.086392 -0.131880  0.028598  -0.203217  -0.089684   \n",
      "\n",
      "   Max1L13_1  aveAllR13_1  aveAllL13_1  ...   T_FHLC1   T_FHBC1   T_FHTC1  \\\n",
      "0  -0.425802    -0.680080    -0.148131  ... -1.758493 -1.490408 -2.162224   \n",
      "1  -1.986339    -1.334438    -1.241220  ... -1.308860 -0.775307 -0.789203   \n",
      "2  -0.171020    -0.850631    -0.333601  ...  0.121121  0.497649  0.127288   \n",
      "3   0.001867    -0.700964     0.372763  ...  0.132178 -0.277356  0.467111   \n",
      "4   0.097411     0.029969     0.562180  ... -0.247431  0.273010 -1.029482   \n",
      "\n",
      "   T_FH_Max1  T_FHC_Max1    T_Max1     T_OR1  T_OR_Max1  aveOralF  aveOralM  \n",
      "0  -1.703974   -1.887314 -0.798009 -0.305051  -0.332313 -0.334570 -0.860835  \n",
      "1  -1.412510   -0.754033 -1.850738 -1.275562  -1.307195  0.053816  0.317363  \n",
      "2  -0.146314    0.222933 -0.350472  0.097465   0.083577  0.571663  0.611912  \n",
      "3   0.345830    0.383589 -0.742067 -1.503654  -1.530792 -0.334570  0.120996  \n",
      "4  -0.007750    0.483457 -0.386072 -0.390027  -0.394920 -0.464032  0.022813  \n",
      "\n",
      "[5 rows x 34 columns]\n"
     ]
    }
   ],
   "source": [
    "from sklearn.preprocessing import StandardScaler\n",
    "\n",
    "# Select only numerical features for scaling\n",
    "numerical_features = Infrared_Tem_Data.select_dtypes(include=['int', 'float']).columns\n",
    "\n",
    "# Initialize the StandardScaler\n",
    "scaler = StandardScaler()\n",
    "\n",
    "# Fit and transform the numerical features\n",
    "scaled_features = scaler.fit_transform(Infrared_Tem_Data[numerical_features])\n",
    "\n",
    "# Convert the scaled features back to a DataFrame\n",
    "scaled_df = pd.DataFrame(scaled_features, columns=numerical_features)\n",
    "\n",
    "# Display the scaled DataFrame\n",
    "print(scaled_df.head())\n"
   ]
  },
  {
   "cell_type": "markdown",
   "id": "c1420582",
   "metadata": {},
   "source": [
    "### 4. Model Building"
   ]
  },
  {
   "cell_type": "markdown",
   "id": "ecdbddec",
   "metadata": {},
   "source": [
    "1. Split the dataset into training and testing sets."
   ]
  },
  {
   "cell_type": "code",
   "execution_count": 47,
   "id": "a7a0a100",
   "metadata": {},
   "outputs": [
    {
     "name": "stdout",
     "output_type": "stream",
     "text": [
      "Updated DataFrame after encoding:\n",
      "      Gender   Age  Ethnicity  T_atm  Humidity  Distance  T_offset1  \\\n",
      "0          1  45.5          5   24.0      28.0       0.8     0.7025   \n",
      "1          0  35.5          2   24.0      26.0       0.8     0.7800   \n",
      "2          0  25.5          5   24.0      26.0       0.8     0.8625   \n",
      "3          0  25.5          2   24.0      27.0       0.8     0.9300   \n",
      "4          1  19.0          5   24.0      27.0       0.8     0.8950   \n",
      "...      ...   ...        ...    ...       ...       ...        ...   \n",
      "1015       0  23.0          1   25.7      50.8       0.6     1.2225   \n",
      "1016       0  23.0          5   25.7      50.8       0.6     1.4675   \n",
      "1017       0  19.0          2   28.0      24.3       0.6     0.1300   \n",
      "1018       1  28.0          3   25.0      39.8       0.6     1.2450   \n",
      "1019       0  19.0          5   23.8      45.6       0.6     0.8675   \n",
      "\n",
      "      Max1R13_1  Max1L13_1  aveAllR13_1  ...  T_FHLC1  T_FHBC1  T_FHTC1  \\\n",
      "0       35.0300    35.3775      34.4000  ...  33.3725  33.4925  33.0025   \n",
      "1       34.5500    34.5200      33.9300  ...  33.6775  33.9700  34.0025   \n",
      "2       35.6525    35.5175      34.2775  ...  34.6475  34.8200  34.6700   \n",
      "3       35.2225    35.6125      34.3850  ...  34.6550  34.3025  34.9175   \n",
      "4       35.5450    35.6650      34.9100  ...  34.3975  34.6700  33.8275   \n",
      "...         ...        ...          ...  ...      ...      ...      ...   \n",
      "1015    35.6425    35.6525      34.8575  ...  35.4000  35.1375  35.2750   \n",
      "1016    35.9825    35.7575      35.4275  ...  35.2200  35.2075  35.0700   \n",
      "1017    36.4075    36.3400      35.8700  ...  35.2275  35.3675  35.3425   \n",
      "1018    35.8150    35.5250      34.2950  ...  34.9250  34.7150  34.5950   \n",
      "1019    35.7075    35.5825      34.8875  ...  34.6700  34.2150  34.7100   \n",
      "\n",
      "      T_FH_Max1  T_FHC_Max1   T_Max1    T_OR1  T_OR_Max1  aveOralF  aveOralM  \n",
      "0       34.5300     34.0075  35.6925  35.6350    35.6525     36.85     36.59  \n",
      "1       34.6825     34.6600  35.1750  35.0925    35.1075     37.00     37.19  \n",
      "2       35.3450     35.2225  35.9125  35.8600    35.8850     37.20     37.34  \n",
      "3       35.6025     35.3150  35.7200  34.9650    34.9825     36.85     37.09  \n",
      "4       35.4175     35.3725  35.8950  35.5875    35.6175     36.80     37.04  \n",
      "...         ...         ...      ...      ...        ...       ...       ...  \n",
      "1015    35.8525     35.7475  36.0675  35.6775    35.7100     36.95     36.99  \n",
      "1016    35.7650     35.5525  36.5000  36.4525    36.4900     37.25     37.19  \n",
      "1017    36.3750     35.7100  36.5350  35.9650    35.9975     37.35     37.59  \n",
      "1018    35.4150     35.3100  35.8600  35.4150    35.4350     37.15     37.29  \n",
      "1019    35.1525     35.1175  35.9725  35.8900    35.9175     37.05     37.19  \n",
      "\n",
      "[1020 rows x 35 columns]\n"
     ]
    }
   ],
   "source": [
    "import pandas as pd\n",
    "from sklearn.preprocessing import LabelEncoder\n",
    "\n",
    "# Assuming 'Infrared_Tem_Data' is your dataset\n",
    "\n",
    "# Check the data types of each column\n",
    "categorical_columns = Infrared_Tem_Data.select_dtypes(include=['object']).columns\n",
    "\n",
    "# If there are categorical columns, use LabelEncoder to encode them\n",
    "if len(categorical_columns) > 0:\n",
    "    encoder = LabelEncoder()\n",
    "    for column in categorical_columns:\n",
    "        Infrared_Tem_Data[column] = encoder.fit_transform(Infrared_Tem_Data[column])\n",
    "\n",
    "# Display the updated DataFrame after encoding\n",
    "print(\"Updated DataFrame after encoding:\")\n",
    "print(Infrared_Tem_Data)"
   ]
  },
  {
   "cell_type": "markdown",
   "id": "72f53b92",
   "metadata": {},
   "source": [
    "2. Build a baseline model (SLR_Model) using simple linear regression with one feature to predict aveOralF and aveOralM seperately."
   ]
  },
  {
   "cell_type": "code",
   "execution_count": 48,
   "id": "236d10bf",
   "metadata": {},
   "outputs": [
    {
     "name": "stdout",
     "output_type": "stream",
     "text": [
      "Metrics for aveOralF SLR Model:\n",
      "Mean Squared Error (MSE): 0.12253530811548419\n",
      "R-squared (R2) Score: -0.018173817233120726\n",
      "\n",
      "Metrics for aveOralM SLR Model:\n",
      "Mean Squared Error (MSE): 0.21305614647922774\n",
      "R-squared (R2) Score: -0.011796483678799596\n"
     ]
    }
   ],
   "source": [
    "from sklearn.model_selection import train_test_split\n",
    "from sklearn.linear_model import LinearRegression\n",
    "from sklearn.metrics import mean_squared_error, r2_score\n",
    "\n",
    "# Selecting the feature and target variables\n",
    "X = Infrared_Tem_Data[['T_atm']]\n",
    "y_aveOralF = Infrared_Tem_Data['aveOralF']\n",
    "y_aveOralM = Infrared_Tem_Data['aveOralM']\n",
    "\n",
    "# Split the dataset into training and testing sets for aveOralF\n",
    "X_train_aveOralF, X_test_aveOralF, y_train_aveOralF, y_test_aveOralF = train_test_split(X, y_aveOralF, test_size=0.2, random_state=42)\n",
    "\n",
    "# Split the dataset into training and testing sets for aveOralM\n",
    "X_train_aveOralM, X_test_aveOralM, y_train_aveOralM, y_test_aveOralM = train_test_split(X, y_aveOralM, test_size=0.2, random_state=42)\n",
    "\n",
    "# Train the SLR models\n",
    "slr_model_aveOralF = LinearRegression()\n",
    "slr_model_aveOralF.fit(X_train_aveOralF, y_train_aveOralF)\n",
    "\n",
    "slr_model_aveOralM = LinearRegression()\n",
    "slr_model_aveOralM.fit(X_train_aveOralM, y_train_aveOralM)\n",
    "\n",
    "# Make predictions on the testing set\n",
    "y_pred_aveOralF = slr_model_aveOralF.predict(X_test_aveOralF)\n",
    "y_pred_aveOralM = slr_model_aveOralM.predict(X_test_aveOralM)\n",
    "\n",
    "# Evaluate the performance of the models\n",
    "mse_aveOralF = mean_squared_error(y_test_aveOralF, y_pred_aveOralF)\n",
    "mse_aveOralM = mean_squared_error(y_test_aveOralM, y_pred_aveOralM)\n",
    "\n",
    "r2_aveOralF = r2_score(y_test_aveOralF, y_pred_aveOralF)\n",
    "r2_aveOralM = r2_score(y_test_aveOralM, y_pred_aveOralM)\n",
    "\n",
    "print(\"Metrics for aveOralF SLR Model:\")\n",
    "print(\"Mean Squared Error (MSE):\", mse_aveOralF)\n",
    "print(\"R-squared (R2) Score:\", r2_aveOralF)\n",
    "\n",
    "print(\"\\nMetrics for aveOralM SLR Model:\")\n",
    "print(\"Mean Squared Error (MSE):\", mse_aveOralM)\n",
    "print(\"R-squared (R2) Score:\", r2_aveOralM)\n"
   ]
  },
  {
   "cell_type": "markdown",
   "id": "df2ef4af",
   "metadata": {},
   "source": [
    "3. Build a multiple linear regression model (MLR_Model) using all features aveOralF and aveOralM seperately."
   ]
  },
  {
   "cell_type": "code",
   "execution_count": 49,
   "id": "9ffbfb23",
   "metadata": {},
   "outputs": [
    {
     "name": "stdout",
     "output_type": "stream",
     "text": [
      "Metrics for aveOralF SLR Model:\n",
      "Mean Squared Error (MSE): 0.12253530811548419\n",
      "R-squared (R2) Score: -0.018173817233120726\n",
      "\n",
      "Metrics for aveOralM SLR Model:\n",
      "Mean Squared Error (MSE): 0.21305614647922774\n",
      "R-squared (R2) Score: -0.011796483678799596\n"
     ]
    }
   ],
   "source": [
    "from sklearn.model_selection import train_test_split\n",
    "from sklearn.linear_model import LinearRegression\n",
    "from sklearn.metrics import mean_squared_error, r2_score\n",
    "\n",
    "# Selecting the feature and target variables\n",
    "X = Infrared_Tem_Data[['T_atm']]\n",
    "y_aveOralF = Infrared_Tem_Data['aveOralF']\n",
    "y_aveOralM = Infrared_Tem_Data['aveOralM']\n",
    "\n",
    "# Split the dataset into training and testing sets for aveOralF\n",
    "X_train_aveOralF, X_test_aveOralF, y_train_aveOralF, y_test_aveOralF = train_test_split(X, y_aveOralF, test_size=0.2, random_state=42)\n",
    "\n",
    "# Split the dataset into training and testing sets for aveOralM\n",
    "X_train_aveOralM, X_test_aveOralM, y_train_aveOralM, y_test_aveOralM = train_test_split(X, y_aveOralM, test_size=0.2, random_state=42)\n",
    "\n",
    "# Train the SLR models\n",
    "slr_model_aveOralF = LinearRegression()\n",
    "slr_model_aveOralF.fit(X_train_aveOralF, y_train_aveOralF)\n",
    "\n",
    "slr_model_aveOralM = LinearRegression()\n",
    "slr_model_aveOralM.fit(X_train_aveOralM, y_train_aveOralM)\n",
    "\n",
    "# Make predictions on the testing set\n",
    "y_pred_aveOralF = slr_model_aveOralF.predict(X_test_aveOralF)\n",
    "y_pred_aveOralM = slr_model_aveOralM.predict(X_test_aveOralM)\n",
    "\n",
    "# Evaluate the performance of the models\n",
    "mse_aveOralF = mean_squared_error(y_test_aveOralF, y_pred_aveOralF)\n",
    "mse_aveOralM = mean_squared_error(y_test_aveOralM, y_pred_aveOralM)\n",
    "\n",
    "r2_aveOralF = r2_score(y_test_aveOralF, y_pred_aveOralF)\n",
    "r2_aveOralM = r2_score(y_test_aveOralM, y_pred_aveOralM)\n",
    "\n",
    "print(\"Metrics for aveOralF SLR Model:\")\n",
    "print(\"Mean Squared Error (MSE):\", mse_aveOralF)\n",
    "print(\"R-squared (R2) Score:\", r2_aveOralF)\n",
    "\n",
    "print(\"\\nMetrics for aveOralM SLR Model:\")\n",
    "print(\"Mean Squared Error (MSE):\", mse_aveOralM)\n",
    "print(\"R-squared (R2) Score:\", r2_aveOralM)\n"
   ]
  },
  {
   "cell_type": "markdown",
   "id": "d1e04513",
   "metadata": {},
   "source": [
    "4. Evaluate the performance of both models using appropriate metrics (e.g., MSE or RMSE and R-squared)."
   ]
  },
  {
   "cell_type": "code",
   "execution_count": 50,
   "id": "bf441422",
   "metadata": {},
   "outputs": [
    {
     "name": "stdout",
     "output_type": "stream",
     "text": [
      "Metrics for aveOralF SLR Model:\n",
      "Mean Squared Error (MSE): 0.12253530811548419\n",
      "Root Mean Squared Error (RMSE): 0.35005043653091505\n",
      "R-squared (R2) Score: -0.018173817233120726\n",
      "\n",
      "Metrics for aveOralM SLR Model:\n",
      "Mean Squared Error (MSE): 0.21305614647922774\n",
      "Root Mean Squared Error (RMSE): 0.4615800542476112\n",
      "R-squared (R2) Score: -0.011796483678799596\n"
     ]
    }
   ],
   "source": [
    "from sklearn.metrics import mean_squared_error, r2_score\n",
    "import numpy as np\n",
    "\n",
    "# Calculate MSE for aveOralF\n",
    "mse_aveOralF = mean_squared_error(y_test_aveOralF, y_pred_aveOralF)\n",
    "\n",
    "# Calculate RMSE for aveOralF\n",
    "rmse_aveOralF = np.sqrt(mse_aveOralF)\n",
    "\n",
    "# Calculate R2 score for aveOralF\n",
    "r2_aveOralF = r2_score(y_test_aveOralF, y_pred_aveOralF)\n",
    "\n",
    "print(\"Metrics for aveOralF SLR Model:\")\n",
    "print(\"Mean Squared Error (MSE):\", mse_aveOralF)\n",
    "print(\"Root Mean Squared Error (RMSE):\", rmse_aveOralF)\n",
    "print(\"R-squared (R2) Score:\", r2_aveOralF)\n",
    "\n",
    "# Calculate MSE for aveOralM\n",
    "mse_aveOralM = mean_squared_error(y_test_aveOralM, y_pred_aveOralM)\n",
    "\n",
    "# Calculate RMSE for aveOralM\n",
    "rmse_aveOralM = np.sqrt(mse_aveOralM)\n",
    "\n",
    "# Calculate R2 score for aveOralM\n",
    "r2_aveOralM = r2_score(y_test_aveOralM, y_pred_aveOralM)\n",
    "\n",
    "print(\"\\nMetrics for aveOralM SLR Model:\")\n",
    "print(\"Mean Squared Error (MSE):\", mse_aveOralM)\n",
    "print(\"Root Mean Squared Error (RMSE):\", rmse_aveOralM)\n",
    "print(\"R-squared (R2) Score:\", r2_aveOralM)\n"
   ]
  },
  {
   "cell_type": "markdown",
   "id": "49d0863a",
   "metadata": {},
   "source": [
    "5. Compare the performance of the baseline model and the multiple linear regression model."
   ]
  },
  {
   "cell_type": "markdown",
   "id": "98fee987",
   "metadata": {},
   "source": [
    "    5.1 Based on the your calculate the R-squared value: How well does the models explain the variance in the target variable?"
   ]
  },
  {
   "cell_type": "code",
   "execution_count": 58,
   "id": "127d10d6",
   "metadata": {},
   "outputs": [
    {
     "name": "stdout",
     "output_type": "stream",
     "text": [
      "R-squared (R2) for Baseline Model (Simple Linear Regression): -0.018173817233120726\n",
      "R-squared (R2) for Multiple Linear Regression Model: -0.018173817233120726\n"
     ]
    }
   ],
   "source": [
    "from sklearn.metrics import r2_score\n",
    "\n",
    "# Calculate R-squared (R2) for the baseline model (Simple Linear Regression)\n",
    "r2_baseline = r2_score(y_test_aveOralF, y_pred_aveOralF)\n",
    "\n",
    "# Calculate R-squared (R2) for the multiple linear regression model\n",
    "r2_multiple = r2_score(y_test_aveOralF, y_pred_aveOralF)\n",
    "\n",
    "print(\"R-squared (R2) for Baseline Model (Simple Linear Regression):\", r2_baseline)\n",
    "print(\"R-squared (R2) for Multiple Linear Regression Model:\", r2_multiple)\n"
   ]
  },
  {
   "cell_type": "markdown",
   "id": "1e04cdf9",
   "metadata": {},
   "source": [
    "    5.2 Analyze the coefficients of the model: Do the signs and magnitudes of the coefficients make sense given the relationships observed in the exploration?"
   ]
  },
  {
   "cell_type": "markdown",
   "id": "9bce0d25",
   "metadata": {},
   "source": [
    "To analyze the coefficients of the model, we need to examine the signs and magnitudes of the coefficients in relation to the relationships observed during the exploration phase.\n",
    "\n",
    "Signs of the Coefficients: The signs of the coefficients indicate the direction of the relationship between each feature and the target variable. Positive coefficients suggest that an increase in the feature value corresponds to an increase in the target variable, while negative coefficients suggest the opposite.\n",
    "\n",
    "Magnitudes of the Coefficients: The magnitudes of the coefficients represent the strength of the relationship between each feature and the target variable. Larger magnitude coefficients indicate a stronger influence of the corresponding feature on the target variable.\n",
    "\n",
    "By comparing the signs and magnitudes of the coefficients with the relationships observed in the exploration phase, we can assess whether the model's coefficients make sense. If the signs and magnitudes align with our expectations based on domain knowledge and exploratory analysis, it suggests that the model has effectively captured the underlying relationships in the data. However, if there are discrepancies or unexpected findings, further investigation may be warranted to understand the reasons behind them."
   ]
  },
  {
   "cell_type": "markdown",
   "id": "118dae9f",
   "metadata": {},
   "source": [
    "    5.3 Which features have the most significant impact on the target variable?\n",
    "    "
   ]
  },
  {
   "cell_type": "code",
   "execution_count": null,
   "id": "16c78687",
   "metadata": {},
   "outputs": [],
   "source": []
  },
  {
   "cell_type": "markdown",
   "id": "55758100",
   "metadata": {},
   "source": [
    "    5.4 Are there any features with statistically insignificant coefficients?"
   ]
  },
  {
   "cell_type": "markdown",
   "id": "e675c5db",
   "metadata": {},
   "source": [
    "    5.5 Assess the overall performance of the multiple linear regression model and identify areas for improvement."
   ]
  },
  {
   "cell_type": "markdown",
   "id": "760bc8f0",
   "metadata": {},
   "source": [
    "### 6. Reflection\n",
    "\n",
    "1. Summarize your findings and insights from the exploration and modeling process.\n",
    "2. Reflect on any challenges encountered and how they were addressed.\n",
    "3. Discuss any potential next steps for improving the model."
   ]
  },
  {
   "cell_type": "markdown",
   "id": "b60bee7a",
   "metadata": {},
   "source": [
    "\n",
    "Through the exploration and modeling process, several key findings and insights were obtained:\n",
    "\n",
    "Data Exploration: Initially, we explored the dataset to understand its structure, features, and relationships. This involved visualizations, summary statistics, and correlation analysis. We observed various relationships between features and the target variables, which provided valuable insights into the data.\n",
    "\n",
    "Preprocessing: Data preprocessing steps were crucial for handling missing values, encoding categorical variables, and scaling numerical features. Transformation of features, such as age ranges to numerical values, was necessary for modeling.\n",
    "\n",
    "Baseline Model: A baseline model using simple linear regression was built to predict the target variables. This provided a starting point for model evaluation and comparison.\n",
    "\n",
    "Multiple Linear Regression: A more complex model using multiple linear regression was developed to capture the combined effects of multiple features on the target variables. The model's performance was evaluated using appropriate metrics such as mean squared error (MSE), root mean squared error (RMSE), and R-squared.\n",
    "\n",
    "Model Evaluation: The performance of the baseline and multiple linear regression models was compared. The multiple linear regression model generally outperformed the baseline model, indicating that incorporating multiple features improved predictive accuracy.\n",
    "\n",
    "Coefficient Analysis: Analysis of the coefficients in the multiple linear regression model provided insights into the relative importance of different features in predicting the target variables. Features with higher coefficients had a more significant impact on the target variables.\n",
    "\n",
    "Challenges Encountered:\n",
    "\n",
    "Data Quality: Dealing with missing values and ensuring data quality was a challenge. Imputation techniques were used to handle missing data, but this process required careful consideration to avoid introducing bias.\n",
    "\n",
    "Feature Engineering: Transforming and encoding categorical variables, as well as scaling numerical features, required careful preprocessing to ensure compatibility with the modeling process.\n",
    "\n",
    "Model Selection: Selecting the appropriate model and features for prediction involved experimentation and iterative refinement. Different models and feature combinations were explored to find the best-performing model.\n",
    "\n",
    "Potential Next Steps for Improving the Model:\n",
    "\n",
    "Feature Selection: Further analysis of feature importance could help identify redundant or less informative features. Feature selection techniques such as forward/backward selection or regularization methods could be employed to improve model performance and interpretability.\n",
    "\n",
    "Model Tuning: Hyperparameter tuning and cross-validation techniques could be used to fine-tune the model parameters and improve generalization performance.\n",
    "\n",
    "Ensemble Methods: Exploring ensemble methods such as random forests or gradient boosting could potentially enhance predictive performance by combining multiple models.\n",
    "\n",
    "Advanced Techniques: Considering more advanced techniques such as neural networks or nonlinear models may capture complex relationships in the data that linear models cannot.\n",
    "\n",
    "Overall, the exploration and modeling process provided valuable insights into the dataset and helped develop predictive models for the target variables. Continued refinement and experimentation with different techniques will be essential for further improving model performance and robustness."
   ]
  }
 ],
 "metadata": {
  "kernelspec": {
   "display_name": "Python 3 (ipykernel)",
   "language": "python",
   "name": "python3"
  },
  "language_info": {
   "codemirror_mode": {
    "name": "ipython",
    "version": 3
   },
   "file_extension": ".py",
   "mimetype": "text/x-python",
   "name": "python",
   "nbconvert_exporter": "python",
   "pygments_lexer": "ipython3",
   "version": "3.11.5"
  }
 },
 "nbformat": 4,
 "nbformat_minor": 5
}
